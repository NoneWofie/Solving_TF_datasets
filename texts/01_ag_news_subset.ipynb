{
 "cells": [
  {
   "cell_type": "markdown",
   "metadata": {},
   "source": [
    "# Text Classification (ag_news_subset)\n",
    "\n",
    "https://www.tensorflow.org/datasets/catalog/ag_news_subset"
   ]
  },
  {
   "cell_type": "code",
   "execution_count": 1,
   "metadata": {},
   "outputs": [
    {
     "data": {
      "text/plain": [
       "'2.10.0'"
      ]
     },
     "execution_count": 1,
     "metadata": {},
     "output_type": "execute_result"
    }
   ],
   "source": [
    "import tensorflow as tf\n",
    "import tensorflow_datasets as tfds\n",
    "\n",
    "import numpy as np \n",
    "import pandas as pd\n",
    "\n",
    "import matplotlib.pyplot as plt\n",
    "\n",
    "import helper_functions\n",
    "\n",
    "tf.__version__"
   ]
  },
  {
   "cell_type": "markdown",
   "metadata": {},
   "source": [
    "## Getting the datasets"
   ]
  },
  {
   "cell_type": "code",
   "execution_count": 2,
   "metadata": {},
   "outputs": [],
   "source": [
    "# Saved to \"C:\\Users\\lelop\\tensorflow_datasets\\ag_news_subset\\1.0.0\"\n",
    "(train_data, test_data), ds_info = tfds.load(\n",
    "    # Target dataset to get from TFDS\n",
    "    name=\"ag_news_subset\",\n",
    "    split=[\"train\", \"test\"],\n",
    "    shuffle_files=True,\n",
    "    as_supervised=True,\n",
    "    with_info=True\n",
    ")"
   ]
  },
  {
   "cell_type": "code",
   "execution_count": 3,
   "metadata": {},
   "outputs": [
    {
     "data": {
      "text/html": [
       "<div>\n",
       "<style scoped>\n",
       "    .dataframe tbody tr th:only-of-type {\n",
       "        vertical-align: middle;\n",
       "    }\n",
       "\n",
       "    .dataframe tbody tr th {\n",
       "        vertical-align: top;\n",
       "    }\n",
       "\n",
       "    .dataframe thead th {\n",
       "        text-align: right;\n",
       "    }\n",
       "</style>\n",
       "<table border=\"1\" class=\"dataframe\">\n",
       "  <thead>\n",
       "    <tr style=\"text-align: right;\">\n",
       "      <th></th>\n",
       "      <th>description</th>\n",
       "      <th>label</th>\n",
       "    </tr>\n",
       "  </thead>\n",
       "  <tbody>\n",
       "    <tr>\n",
       "      <th>0</th>\n",
       "      <td>AMD #39;s new dual-core Opteron chip is design...</td>\n",
       "      <td>3</td>\n",
       "    </tr>\n",
       "    <tr>\n",
       "      <th>1</th>\n",
       "      <td>Reuters - Major League Baseball\\Monday announc...</td>\n",
       "      <td>1</td>\n",
       "    </tr>\n",
       "    <tr>\n",
       "      <th>2</th>\n",
       "      <td>President Bush #39;s  quot;revenue-neutral quo...</td>\n",
       "      <td>2</td>\n",
       "    </tr>\n",
       "    <tr>\n",
       "      <th>3</th>\n",
       "      <td>Britain will run out of leading scientists unl...</td>\n",
       "      <td>3</td>\n",
       "    </tr>\n",
       "    <tr>\n",
       "      <th>4</th>\n",
       "      <td>London, England (Sports Network) - England mid...</td>\n",
       "      <td>1</td>\n",
       "    </tr>\n",
       "  </tbody>\n",
       "</table>\n",
       "</div>"
      ],
      "text/plain": [
       "                                         description  label\n",
       "0  AMD #39;s new dual-core Opteron chip is design...      3\n",
       "1  Reuters - Major League Baseball\\Monday announc...      1\n",
       "2  President Bush #39;s  quot;revenue-neutral quo...      2\n",
       "3  Britain will run out of leading scientists unl...      3\n",
       "4  London, England (Sports Network) - England mid...      1"
      ]
     },
     "execution_count": 3,
     "metadata": {},
     "output_type": "execute_result"
    }
   ],
   "source": [
    "train_data = tfds.as_dataframe(train_data, ds_info)\n",
    "test_data = tfds.as_dataframe(test_data, ds_info)\n",
    "\n",
    "train_data['description'] = train_data['description'].str.decode(\"utf-8\")\n",
    "test_data['description'] = test_data['description'].str.decode(\"utf-8\")\n",
    "train_data.head()"
   ]
  },
  {
   "cell_type": "code",
   "execution_count": 4,
   "metadata": {},
   "outputs": [
    {
     "data": {
      "text/plain": [
       "['World', 'Sports', 'Business', 'Sci/Tech']"
      ]
     },
     "execution_count": 4,
     "metadata": {},
     "output_type": "execute_result"
    }
   ],
   "source": [
    "#different categories\n",
    "class_names = ds_info.features[\"label\"].names\n",
    "class_names"
   ]
  },
  {
   "cell_type": "code",
   "execution_count": 5,
   "metadata": {},
   "outputs": [
    {
     "data": {
      "text/plain": [
       "((120000, 2), (7600, 2))"
      ]
     },
     "execution_count": 5,
     "metadata": {},
     "output_type": "execute_result"
    }
   ],
   "source": [
    "train_data.shape, test_data.shape"
   ]
  },
  {
   "cell_type": "code",
   "execution_count": 12,
   "metadata": {},
   "outputs": [
    {
     "data": {
      "text/plain": [
       "0         20\n",
       "1         26\n",
       "2         35\n",
       "3         16\n",
       "4         33\n",
       "          ..\n",
       "119995    33\n",
       "119996    33\n",
       "119997    42\n",
       "119998    28\n",
       "119999    34\n",
       "Name: description, Length: 120000, dtype: int64"
      ]
     },
     "execution_count": 12,
     "metadata": {},
     "output_type": "execute_result"
    }
   ],
   "source": [
    "sentences_length = train_data[\"description\"].apply(lambda x: len(x.split(\" \")))\n",
    "sentences_length"
   ]
  },
  {
   "cell_type": "code",
   "execution_count": 13,
   "metadata": {},
   "outputs": [
    {
     "data": {
      "text/plain": [
       "<AxesSubplot: ylabel='Frequency'>"
      ]
     },
     "execution_count": 13,
     "metadata": {},
     "output_type": "execute_result"
    },
    {
     "data": {
      "image/png": "[encoded data removed]",
      "text/plain": [
       "<Figure size 640x480 with 1 Axes>"
      ]
     },
     "metadata": {},
     "output_type": "display_data"
    }
   ],
   "source": [
    "# Find average length of each sentences\n",
    "pd.DataFrame(sentences_length).plot.hist(bins=5)"
   ]
  },
  {
   "cell_type": "code",
   "execution_count": 15,
   "metadata": {},
   "outputs": [
    {
     "data": {
      "text/plain": [
       "47"
      ]
     },
     "execution_count": 15,
     "metadata": {},
     "output_type": "execute_result"
    }
   ],
   "source": [
    "#Average length of sentences is 47\n",
    "max_length = int(np.percentile(sentences_length, 95))\n",
    "max_length"
   ]
  },
  {
   "cell_type": "code",
   "execution_count": 16,
   "metadata": {},
   "outputs": [],
   "source": [
    "#Setting up word tokenisation\n",
    "#used to convert words into a one hot vector indices of the word\n",
    "from tensorflow.keras.layers import TextVectorization\n",
    "\n",
    "text_vectorizer = TextVectorization(max_tokens=None, output_mode=\"int\", output_sequence_length= max_length)\n",
    "\n",
    "text_vectorizer.adapt(train_data.description)"
   ]
  },
  {
   "cell_type": "code",
   "execution_count": 17,
   "metadata": {},
   "outputs": [
    {
     "data": {
      "text/plain": [
       "<tf.Tensor: shape=(1, 47), dtype=int64, numpy=\n",
       "array([[1688,   11,   21, 4258, 5887,  683,   16,  743, 4759,    9,  675,\n",
       "        1698,  952,  244, 8003,  230,  221,    7,  311, 6080,    0,    0,\n",
       "           0,    0,    0,    0,    0,    0,    0,    0,    0,    0,    0,\n",
       "           0,    0,    0,    0,    0,    0,    0,    0,    0,    0,    0,\n",
       "           0,    0,    0]], dtype=int64)>"
      ]
     },
     "execution_count": 17,
     "metadata": {},
     "output_type": "execute_result"
    }
   ],
   "source": [
    "example_text = train_data.description[0]\n",
    "text_vectorizer([example_text])"
   ]
  },
  {
   "cell_type": "code",
   "execution_count": 18,
   "metadata": {},
   "outputs": [
    {
     "data": {
      "text/plain": [
       "{'name': 'text_vectorization',\n",
       " 'trainable': True,\n",
       " 'batch_input_shape': (None, None),\n",
       " 'dtype': 'string',\n",
       " 'max_tokens': None,\n",
       " 'standardize': 'lower_and_strip_punctuation',\n",
       " 'split': 'whitespace',\n",
       " 'ngrams': None,\n",
       " 'output_mode': 'int',\n",
       " 'output_sequence_length': 47,\n",
       " 'pad_to_max_tokens': False,\n",
       " 'sparse': False,\n",
       " 'ragged': False,\n",
       " 'vocabulary': None,\n",
       " 'idf_weights': None}"
      ]
     },
     "execution_count": 18,
     "metadata": {},
     "output_type": "execute_result"
    }
   ],
   "source": [
    "text_vectorizer.get_config()"
   ]
  },
  {
   "cell_type": "code",
   "execution_count": 19,
   "metadata": {},
   "outputs": [
    {
     "name": "stdout",
     "output_type": "stream",
     "text": [
      "5 commom words: ['', '[UNK]', 'the', 'a', 'to']\n",
      "5 Least common words: ['004', '0013', '000th', '000strong', '000660se']\n",
      "Length of vocab size: 93145\n"
     ]
    }
   ],
   "source": [
    "vocab_list = text_vectorizer.get_vocabulary()\n",
    "print(f\"5 commom words: {vocab_list[:5]}\")\n",
    "print(f\"5 Least common words: {vocab_list[-5:]}\")\n",
    "print(f\"Length of vocab size: {len(vocab_list)}\")"
   ]
  },
  {
   "cell_type": "code",
   "execution_count": 20,
   "metadata": {},
   "outputs": [],
   "source": [
    "# Creating an embedding for tokenised words\n",
    "embed = tf.keras.layers.Embedding(input_dim=len(vocab_list), \n",
    "        output_dim=256, \n",
    "        mask_zero=True, \n",
    "        input_length=max_length,\n",
    "        name=\"Embeddings\"\n",
    "        )"
   ]
  },
  {
   "cell_type": "code",
   "execution_count": 33,
   "metadata": {},
   "outputs": [
    {
     "data": {
      "text/plain": [
       "<PrefetchDataset element_spec=(TensorSpec(shape=(None,), dtype=tf.string, name=None), TensorSpec(shape=(None, 4), dtype=tf.float64, name=None))>"
      ]
     },
     "execution_count": 33,
     "metadata": {},
     "output_type": "execute_result"
    }
   ],
   "source": [
    "# efficient dataset\n",
    "from sklearn.preprocessing import OneHotEncoder\n",
    "\n",
    "one_hot = OneHotEncoder(sparse=False)\n",
    "\n",
    "train_y = one_hot.fit_transform(train_data.label.to_numpy().reshape(-1, 1))\n",
    "test_y = one_hot.transform(test_data.label.to_numpy().reshape(-1, 1))\n",
    "\n",
    "train_dataset_X = tf.data.Dataset.from_tensor_slices(train_data.description.to_numpy())\n",
    "train_dataset_y = tf.data.Dataset.from_tensor_slices(train_y)\n",
    "train_dataset = tf.data.Dataset.zip( (train_dataset_X, train_dataset_y) ).batch(32).prefetch(tf.data.AUTOTUNE)\n",
    "\n",
    "test_dataset_X = tf.data.Dataset.from_tensor_slices(test_data.description.to_numpy())\n",
    "test_dataset_y = tf.data.Dataset.from_tensor_slices(test_y)\n",
    "test_dataset = tf.data.Dataset.zip( (test_dataset_X, test_dataset_y) ).batch(32).prefetch(tf.data.AUTOTUNE)\n",
    "\n",
    "train_dataset"
   ]
  },
  {
   "cell_type": "code",
   "execution_count": 38,
   "metadata": {},
   "outputs": [
    {
     "name": "stdout",
     "output_type": "stream",
     "text": [
      "Epoch 1/3\n",
      "1500/1500 [==============================] - 35s 21ms/step - loss: 0.1499 - accuracy: 0.9568 - val_loss: 0.3691 - val_accuracy: 0.8976\n",
      "Epoch 2/3\n",
      "1500/1500 [==============================] - 30s 20ms/step - loss: 0.1917 - accuracy: 0.9411 - val_loss: 0.3690 - val_accuracy: 0.8922\n",
      "Epoch 3/3\n",
      " 748/1500 [=============>................] - ETA: 14s - loss: 0.1822 - accuracy: 0.9433WARNING:tensorflow:Your input ran out of data; interrupting training. Make sure that your dataset or generator can generate at least `steps_per_epoch * epochs` batches (in this case, 4500 batches). You may need to use the repeat() function when building your dataset.\n"
     ]
    },
    {
     "name": "stderr",
     "output_type": "stream",
     "text": [
      "WARNING:tensorflow:Your input ran out of data; interrupting training. Make sure that your dataset or generator can generate at least `steps_per_epoch * epochs` batches (in this case, 4500 batches). You may need to use the repeat() function when building your dataset.\n"
     ]
    },
    {
     "name": "stdout",
     "output_type": "stream",
     "text": [
      "1500/1500 [==============================] - 16s 10ms/step - loss: 0.1825 - accuracy: 0.9432 - val_loss: 0.3309 - val_accuracy: 0.9020\n"
     ]
    }
   ],
   "source": [
    "#Creating of models\n",
    "\n",
    "inputs = tf.keras.layers.Input(shape=[1,], dtype=tf.string, name=\"input_layer\")\n",
    "\n",
    "word_token = text_vectorizer(inputs)\n",
    "embeddings = embed(word_token)\n",
    "\n",
    "x = tf.keras.layers.LSTM(units=128)(embeddings)\n",
    "x = tf.keras.layers.Dense(128, activation=\"relu\")(x)\n",
    "\n",
    "outputs = tf.keras.layers.Dense(len(class_names), activation=\"softmax\")(x)\n",
    "\n",
    "model = tf.keras.Model(inputs, outputs)\n",
    "\n",
    "model.compile(loss=tf.keras.losses.categorical_crossentropy, optimizer=\"adam\", metrics=[\"accuracy\"])\n",
    "\n",
    "history = model.fit(train_dataset, steps_per_epoch=int( len(train_dataset) * 0.4), epochs=3, validation_data=test_dataset, validation_steps=len(test_dataset))"
   ]
  },
  {
   "cell_type": "code",
   "execution_count": 39,
   "metadata": {},
   "outputs": [
    {
     "data": {
      "image/png": "[encoded data removed]",
      "text/plain": [
       "<Figure size 640x480 with 1 Axes>"
      ]
     },
     "metadata": {},
     "output_type": "display_data"
    },
    {
     "data": {
      "image/png": "[encoded data removed]",
      "text/plain": [
       "<Figure size 640x480 with 1 Axes>"
      ]
     },
     "metadata": {},
     "output_type": "display_data"
    }
   ],
   "source": [
    "import helper_functions\n",
    "\n",
    "helper_functions.plot_loss_curves(history)"
   ]
  },
  {
   "cell_type": "code",
   "execution_count": null,
   "metadata": {},
   "outputs": [],
   "source": []
  }
 ],
 "metadata": {
  "kernelspec": {
   "display_name": "Python 3.9.13 ('DL')",
   "language": "python",
   "name": "python3"
  },
  "language_info": {
   "codemirror_mode": {
    "name": "ipython",
    "version": 3
   },
   "file_extension": ".py",
   "mimetype": "text/x-python",
   "name": "python",
   "nbconvert_exporter": "python",
   "pygments_lexer": "ipython3",
   "version": "3.9.13"
  },
  "orig_nbformat": 4,
  "vscode": {
   "interpreter": {
    "hash": "39e572ab75f91bd1dd83173b7cbdc67ecc716e1cb636734897daaa0b1577c408"
   }
  }
 },
 "nbformat": 4,
 "nbformat_minor": 2
}
